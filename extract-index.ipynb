{
 "cells": [
  {
   "cell_type": "code",
   "execution_count": 5,
   "metadata": {
    "collapsed": true
   },
   "outputs": [],
   "source": [
    "import urllib.request\n",
    "from urllib.error import HTTPError\n",
    "import requests\n",
    "page = requests.get(\"https://bn.wikisource.org/w/index.php?title=বিশেষ:IndexPages&limit=7000&offset=0&key=&order=\")"
   ]
  },
  {
   "cell_type": "code",
   "execution_count": 3,
   "metadata": {},
   "outputs": [
    {
     "data": {
      "text/plain": [
       "<Response [200]>"
      ]
     },
     "execution_count": 3,
     "metadata": {},
     "output_type": "execute_result"
    }
   ],
   "source": [
    "page"
   ]
  },
  {
   "cell_type": "code",
   "execution_count": 6,
   "metadata": {
    "collapsed": false
   },
   "outputs": [
    {
     "name": "stdout",
     "output_type": "stream",
     "text": [
      "('%E0%A6%A8%E0%A6%BF%E0%A6%B0%E0%A7%8D%E0%A6%98%E0%A6%A3%E0%A7%8D%E0%A6%9F:%E0%A6%AA%E0%A7%8B%E0%A6%95%E0%A6%BE-%E0%A6%AE%E0%A6%BE%E0%A6%95%E0%A6%A1%E0%A6%BC.pdf', 'https://bn.wikisource.org/w/index.php?title=%E0%A6%A8%E0%A6%BF%E0%A6%B0%E0%A7%8D%E0%A6%98%E0%A6%A3%E0%A7%8D%E0%A6%9F:%E0%A6%AA%E0%A7%8B%E0%A6%95%E0%A6%BE-%E0%A6%AE%E0%A6%BE%E0%A6%95%E0%A6%A1%E0%A6%BC.pdf&action=raw')\n"
     ]
    }
   ],
   "source": [
    "\n",
    "from lxml import html\n",
    "content = html.fromstring(page.content)\n",
    "links = []\n",
    "for item in content.xpath(\"//div\"):\n",
    "    if \"prp-indexpages-row\" in item.classes:\n",
    "        link = item.findall('.//a')[0].get('href')\n",
    "        name = link.split('/')[::-1][0]\n",
    "        links.append((name, \"https://bn.wikisource.org/w/index.php?title=\" + name + \"&action=raw\"))\n",
    "\n",
    "print(links[0])"
   ]
  },
  {
   "cell_type": "code",
   "execution_count": 7,
   "metadata": {
    "collapsed": false
   },
   "outputs": [],
   "source": [
    "import re\n",
    "\n",
    "page = requests.get(links[0][1])\n",
    "page.encoding = 'utf-8'\n",
    "page_content = str(page.content).split('|', 1)[1]\n",
    "headings = re.sub(r\"(\\|Remarks).*(\\|Notes)\", r'\\1=\\n\\2', str(page.content)).split('|')\n",
    "headings.remove(headings[0])\n",
    "count = 0\n",
    "s = \"\"\n",
    "for heading in headings:\n",
    "    prop, val = heading.split('=', 1)\n",
    "    s += prop + \",\"\n",
    "print(s[:-1], file=open(\"bn-ws.csv\", \"w+\"))"
   ]
  },
  {
   "cell_type": "code",
   "execution_count": 8,
   "metadata": {
    "collapsed": false
   },
   "outputs": [],
   "source": [
    "import codecs\n",
    "from urllib.parse import unquote\n",
    "for y, l in links:\n",
    "    page = requests.get(l)\n",
    "    page.encoding = 'utf-8'\n",
    "    page_content = str(page.content).split('|', 1)[1]\n",
    "    headings = re.sub(r\"(\\|Remarks).*(\\|Notes)\", r'\\1=\\2', str(page.content))\n",
    "    headings = re.sub(r\"(\\|Pages).*(\\|Volumes)\", r'\\1=\\2', headings)\n",
    "        \n",
    "    headings = headings.split('=')\n",
    "    #print(headings)\n",
    "    headings.remove(headings[0])\n",
    "    s=unquote(y) + \",\" + \"https://bn.wikisource.org/wiki/\" + unquote(y) + \",\"\n",
    "    for heading in headings:\n",
    "        try:\n",
    "            val, prop = heading.split('|', 1)\n",
    "        except Exception:\n",
    "            val = heading\n",
    "        val = val.replace(\"}}\",\"\")\n",
    "        val = val.replace(\"\\\\n\", \"\")\n",
    "        s += val + \",\"\n",
    "    #print(s)\n",
    "    with codecs.open(\"bn-ws.csv\", \"a+\", \"utf-8-sig\") as temp:\n",
    "        temp.write(bytes(s, 'utf-8').decode('unicode_escape').encode('latin-1').decode('utf8') + \"\\n\")"
   ]
  },
  {
   "cell_type": "code",
   "execution_count": 13,
   "metadata": {},
   "outputs": [
    {
     "name": "stdout",
     "output_type": "stream",
     "text": [
      "<!DOCTYPE html>\n<html class=\"client-nojs\" lang=\"en\" dir=\"ltr\">\n<head>\n<meta charset=\"UTF-8\"/>\n<title>MediaWiki API result - Meta</title>\n<script>document.documentElement.className=document.documentElement.className.replace(/(^|\\s)client-nojs(\\s|$)/,\"$1client-js$2\");RLCONF={\"wgCanonicalNamespace\":\"Special\",\"wgCanonicalSpecialPageName\":\"ApiHelp\",\"wgNamespaceNumber\":-1,\"wgPageName\":\"Special:ApiHelp\",\"wgTitle\":\"ApiHelp\",\"wgCurRevisionId\":0,\"wgRevisionId\":0,\"wgArticleId\":0,\"wgIsArticle\":!1,\"wgIsRedirect\":!1,\"wgAction\":\"view\",\"wgUserName\":null,\"wgUserGroups\":[\"*\"],\"wgCategories\":[],\"wgBreakFrames\":!1,\"wgPageContentLanguage\":\"en\",\"wgPageContentModel\":\"wikitext\",\"wgSeparatorTransformTable\":[\"\",\"\"],\"wgDigitTransformTable\":[\"\",\"\"],\"wgDefaultDateFormat\":\"dmy\",\"wgMonthNames\":[\"\",\"January\",\"February\",\"March\",\"April\",\"May\",\"June\",\"July\",\"August\",\"September\",\"October\",\"November\",\"December\"],\"wgMonthNamesShort\":[\"\",\"Jan\",\"Feb\",\"Mar\",\"Apr\",\"May\",\"Jun\",\"Jul\",\"Aug\",\"Sep\",\"Oct\",\"Nov\",\"Dec\"],\"wgRelevantPageName\":\"Special:ApiHelp\",\"wgRelevantArticleId\":0,\"wgRequestId\":\"XVRRhApAIDkAAEIrtwIAAABA\",\"wgCSPNonce\":!1,\"wgIsProbablyEditable\":\n!1,\"wgRelevantPageIsProbablyEditable\":!1,\"wgMediaViewerOnClick\":!0,\"wgMediaViewerEnabledByDefault\":!0,\"wgVisualEditor\":{\"pageLanguageCode\":\"en\",\"pageLanguageDir\":\"ltr\",\"pageVariantFallbacks\":\"en\"},\"wgMFDisplayWikibaseDescriptions\":{\"search\":!0,\"nearby\":!0,\"watchlist\":!0,\"tagline\":!1},\"wgWMESchemaEditAttemptStepOversample\":!1,\"wgPoweredByHHVM\":!0,\"wgULSCurrentAutonym\":\"English\",\"wgNoticeProject\":\"meta\",\"wgCentralAuthMobileDomain\":!1,\"wgEditSubmitButtonLabelPublish\":!0};RLSTATE={\"ext.globalCssJs.user.styles\":\"ready\",\"ext.globalCssJs.site.styles\":\"ready\",\"site.styles\":\"ready\",\"noscript\":\"ready\",\"user.styles\":\"ready\",\"ext.globalCssJs.user\":\"ready\",\"ext.globalCssJs.site\":\"ready\",\"user\":\"ready\",\"user.options\":\"ready\",\"user.tokens\":\"loading\",\"mediawiki.apipretty\":\"ready\",\"ext.pygments\":\"ready\",\"mediawiki.legacy.shared\":\"ready\",\"mediawiki.legacy.commonPrint\":\"ready\",\"mediawiki.skinning.interface\":\"ready\",\"ext.visualEditor.desktopArticleTarget.noscript\":\"ready\",\n\"ext.uls.pt\":\"ready\",\"ext.wikimediaBadges\":\"ready\",\"ext.3d.styles\":\"ready\"};RLPAGEMODULES=[\"site\",\"mediawiki.page.startup\",\"mediawiki.page.ready\",\"ext.gadget.CentralAuthInterlinkFixer\",\"ext.gadget.wm-portal-preview\",\"ext.gadget.addMe\",\"ext.gadget.addMe-WishlistSurvey\",\"ext.gadget.formWizard\",\"ext.gadget.susaresources\",\"ext.gadget.aaq\",\"ext.gadget.wrcEditor\",\"ext.gadget.wrcCollapsible\",\"ext.gadget.ReferenceTooltips\",\"ext.gadget.wrcAddNewIndividual\",\"ext.gadget.wrcAddNewGroup\",\"ext.gadget.CurIDLink\",\"ext.urlShortener.toolbar\",\"ext.centralauth.centralautologin\",\"ext.visualEditor.desktopArticleTarget.init\",\"ext.visualEditor.targetLoader\",\"ext.eventLogging\",\"ext.wikimediaEvents\",\"ext.navigationTiming\",\"ext.uls.compactlinks\",\"ext.uls.interface\",\"ext.centralNotice.geoIP\"];</script>\n<script>(RLQ=window.RLQ||[]).push(function(){mw.loader.implement(\"user.tokens@0tffind\",function($,jQuery,require,module){/*@nomin*/mw.user.tokens.set({\"editToken\":\"+\\\\\",\"patrolToken\":\"+\\\\\",\"watchToken\":\"+\\\\\",\"csrfToken\":\"+\\\\\"});\n});});</script>\n<link rel=\"stylesheet\" href=\"/w/load.php?lang=en&amp;modules=ext.3d.styles%7Cext.pygments%2CwikimediaBadges%7Cext.uls.pt%7Cext.visualEditor.desktopArticleTarget.noscript%7Cmediawiki.apipretty%7Cmediawiki.legacy.commonPrint%2Cshared%7Cmediawiki.skinning.interface&amp;only=styles&amp;skin=apioutput\"/>\n<script async=\"\" src=\"/w/load.php?lang=en&amp;modules=startup&amp;only=scripts&amp;raw=1&amp;skin=apioutput\"></script>\n<meta name=\"ResourceLoaderDynamicStyles\" content=\"\"/>\n<link rel=\"stylesheet\" href=\"/w/load.php?lang=en&amp;modules=site.styles&amp;only=styles&amp;skin=apioutput\"/>\n<meta name=\"generator\" content=\"MediaWiki 1.34.0-wmf.17\"/>\n<meta name=\"referrer\" content=\"origin\"/>\n<meta name=\"referrer\" content=\"origin-when-crossorigin\"/>\n<meta name=\"referrer\" content=\"origin-when-cross-origin\"/>\n<meta name=\"robots\" content=\"noindex,nofollow\"/>\n<link rel=\"shortcut icon\" href=\"/static/favicon/community.ico\"/>\n<link rel=\"search\" type=\"application/opensearchdescription+xml\" href=\"/w/opensearch_desc.php\" title=\"Meta (en)\"/>\n<link rel=\"EditURI\" type=\"application/rsd+xml\" href=\"//meta.wikimedia.org/w/api.php?action=rsd\"/>\n<link rel=\"license\" href=\"//creativecommons.org/licenses/by-sa/3.0/\"/>\n<link rel=\"alternate\" type=\"application/atom+xml\" title=\"Meta Atom feed\" href=\"/w/index.php?title=Special:RecentChanges&amp;feed=atom\"/>\n<link rel=\"canonical\" href=\"https://meta.wikimedia.org/wiki/Special:ApiHelp\"/>\n<link rel=\"dns-prefetch\" href=\"//login.wikimedia.org\"/>\n<!--[if lt IE 9]><script src=\"/w/resources/lib/html5shiv/html5shiv.js\"></script><![endif]-->\n</head>\n<body class=\"mediawiki ltr sitedir-ltr mw-hide-empty-elt ns--1 ns-special mw-special-ApiHelp page-Special_ApiHelp rootpage-Special_ApiHelp skin-apioutput action-view\">\n\t\t<div class=\"mw-body\" role=\"main\">\n\t\t\t<h1 class=\"firstHeading\">MediaWiki API result</h1>\n\t\t\t<div class=\"mw-body-content\">\n\t\t\t\t<div id=\"mw-content-text\"><div class=\"api-pretty-header\"><p>This is the HTML representation of the JSON format. HTML is good for debugging, but is unsuitable for application use.\n</p><p>Specify the <var>format</var> parameter to change the output format. To see the non-HTML representation of the JSON format, set <kbd>format=json</kbd>.\n</p><p>See the <a href=\"https://www.mediawiki.org/wiki/Special:MyLanguage/API\" class=\"extiw\" title=\"mw:Special:MyLanguage/API\">complete documentation</a>, or the <a href=\"/w/api.php?action=help&amp;modules=main\">API help</a> for more information.\n</p></div><div dir=\"ltr\"><div class=\"mw-highlight\"><pre><span></span><span class=\"p\">{</span>\n    <span class=\"s2\">&quot;shortenurl&quot;</span><span class=\"o\">:</span> <span class=\"p\">{</span>\n        <span class=\"s2\">&quot;shorturl&quot;</span><span class=\"o\">:</span> <span class=\"s2\">&quot;https://w.wiki/76U&quot;</span>\n    <span class=\"p\">}</span>\n<span class=\"p\">}</span>\n</pre></div>\n</div><noscript><img src=\"//meta.wikimedia.org/wiki/Special:CentralAutoLogin/start?type=1x1\" alt=\"\" title=\"\" width=\"1\" height=\"1\" style=\"border: none; position: absolute;\" /></noscript></div><div class=\"printfooter\">\nRetrieved from \"<a dir=\"ltr\" href=\"https://meta.wikimedia.org/wiki/Special:ApiHelp\">https://meta.wikimedia.org/wiki/Special:ApiHelp</a>\"</div>\n\t\t\t</div>\n\t\t</div>\n\n\t\t\n<script>(RLQ=window.RLQ||[]).push(function(){mw.config.set({\"wgBackendResponseTime\":88,\"wgHostname\":\"mw1345\"});});</script>\t\t</body></html>\n\n"
     ]
    }
   ],
   "source": [
    "data = {'url': 'https://bn.wikisource.org/wiki/নির্ঘণ্ট:শ্রীক্ষেত্র-তত্ত্ব-সুধা.pdf'}\n",
    "r = requests.post(url=\"https://meta.wikimedia.org/w/api.php?action=shortenurl\", data=data)\n",
    "print(r.text)"
   ]
  },
  {
   "cell_type": "code",
   "execution_count": null,
   "metadata": {},
   "outputs": [],
   "source": []
  }
 ],
 "metadata": {
  "kernelspec": {
   "display_name": "Python 2",
   "language": "python",
   "name": "python2"
  },
  "language_info": {
   "codemirror_mode": {
    "name": "ipython",
    "version": 2
   },
   "file_extension": ".py",
   "mimetype": "text/x-python",
   "name": "python",
   "nbconvert_exporter": "python",
   "pygments_lexer": "ipython2",
   "version": "2.7.6"
  }
 },
 "nbformat": 4,
 "nbformat_minor": 0
}
